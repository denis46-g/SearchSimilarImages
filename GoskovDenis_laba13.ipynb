{
 "cells": [
  {
   "cell_type": "code",
   "execution_count": 27,
   "id": "6fcefc97-2213-4e2b-a652-24f32bbf8f51",
   "metadata": {},
   "outputs": [],
   "source": [
    "from __future__ import print_function\n",
    "import argparse\n",
    "import numpy as np\n",
    "import PIL\n",
    "from PIL import Image, ImageChops\n",
    "import matplotlib.pyplot as plt\n",
    "import pandas as pd\n",
    "import cv2\n",
    "import copy\n",
    "import requests\n",
    "from io import BytesIO\n",
    "import math\n",
    "import keyboard\n",
    "import random\n",
    "import os\n",
    "from pathlib import Path\n",
    "\n",
    "directory = './coco128/images' # директория для поиска имён файлов изображений\n",
    "\n",
    "# извлечение имён файлов изображений тренировочного набора\n",
    "train_images = []\n",
    "for root, dirs, files in os.walk(directory):  \n",
    "    for filename in files:\n",
    "        train_images.append(filename)\n",
    "\n",
    "full_directory = directory + '/train2017/' # директория для извлечения ключевых точек из изображений\n",
    "\n",
    "# Шаг 2. Извлечение ключевых точек ( нужны только дескрипторы )\n",
    "def ExtractKeyPoints():\n",
    "    all_descriptors = []\n",
    "    for filename in train_images:\n",
    "\n",
    "        # считывание изображения и преобразование его в оттенки серого\n",
    "        img = cv2.imread(full_directory + filename)\n",
    "        gray= cv2.cvtColor(img, cv2.COLOR_BGR2GRAY)\n",
    "\n",
    "        # нахождение ключевых точек и дескрипторов изображения\n",
    "        sift = cv2.SIFT_create()\n",
    "        kp = sift.detect(gray, None)\n",
    "        \n",
    "        # добавление дескрипторов в массив\n",
    "        for d in kp:\n",
    "            all_descriptors.append(d.pt)\n",
    "        \n",
    "    return all_descriptors"
   ]
  },
  {
   "cell_type": "code",
   "execution_count": 28,
   "id": "1866423c",
   "metadata": {},
   "outputs": [],
   "source": [
    "#all_descriptors = ExtractKeyPoints()\n",
    "\n",
    "from sklearn.cluster import KMeans\n",
    "import pickle\n",
    "from joblib import dump, load\n",
    "\n",
    "# Шаг 3. Обучение модели кластеризации\n",
    "K = 1024\n",
    "#kmeans = KMeans(n_clusters=K, random_state=0, n_init=\"auto\").fit(all_descriptors)\n",
    "\n",
    "filename_model_claster = 'model_clasteris.joblib'\n",
    "\n",
    "#сохранение обученной модели\n",
    "#dump(kmeans, filename_model_claster)\n",
    "\n",
    "#загрузка существующей обученной модели\n",
    "kmeans = load(filename_model_claster)\n"
   ]
  },
  {
   "cell_type": "code",
   "execution_count": 29,
   "id": "f331ace1",
   "metadata": {},
   "outputs": [],
   "source": [
    "#labels = kmeans.labels_ # метки кластеров для каждого дескриптора (какому классу или кластеру дескриптор принадлежит )\n",
    "#cluster_centers = kmeans.cluster_centers_ # центры кластеров (классов)\n",
    "\n",
    "\n",
    "# Шаг 4. Представление изображения в виде вектора в метрическом пространстве\n",
    "def ConvertImageToVector(img):\n",
    "    gray= cv2.cvtColor(img, cv2.COLOR_BGR2GRAY)\n",
    "\n",
    "    # нахождение дескрипторов изображения\n",
    "    sift = cv2.SIFT_create()\n",
    "    kp = sift.detect(gray, None)\n",
    "    des = [d.pt for d in kp]\n",
    "\n",
    "    # нахождение меток дескрипторов данного изображения (какому классу или кластеру они принадлежат)\n",
    "    prediction = kmeans.predict(des)\n",
    "\n",
    "    # создание гистограммы частоты вхождения каждого класса в данном изображении - результирующего вектора\n",
    "    vector, _ = np.histogram(prediction, bins=K)\n",
    "\n",
    "    return vector\n",
    "    "
   ]
  },
  {
   "cell_type": "code",
   "execution_count": 31,
   "id": "063344f8",
   "metadata": {},
   "outputs": [
    {
     "data": {
      "text/plain": [
       "array([1, 0, 0, ..., 2, 0, 9], dtype=int64)"
      ]
     },
     "execution_count": 31,
     "metadata": {},
     "output_type": "execute_result"
    }
   ],
   "source": [
    "# Пример\n",
    "img = cv2.imread(full_directory + '000000000030.jpg')\n",
    "v = ConvertImageToVector(img)\n",
    "\n",
    "v"
   ]
  }
 ],
 "metadata": {
  "kernelspec": {
   "display_name": "Python 3 (ipykernel)",
   "language": "python",
   "name": "python3"
  },
  "language_info": {
   "codemirror_mode": {
    "name": "ipython",
    "version": 3
   },
   "file_extension": ".py",
   "mimetype": "text/x-python",
   "name": "python",
   "nbconvert_exporter": "python",
   "pygments_lexer": "ipython3",
   "version": "3.10.4"
  }
 },
 "nbformat": 4,
 "nbformat_minor": 5
}
